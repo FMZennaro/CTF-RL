{
 "cells": [
  {
   "cell_type": "markdown",
   "metadata": {},
   "source": [
    "# Simulation 5\n",
    "See README.md for a short description."
   ]
  },
  {
   "cell_type": "markdown",
   "metadata": {},
   "source": [
    "### Importing libraries"
   ]
  },
  {
   "cell_type": "code",
   "execution_count": 1,
   "metadata": {},
   "outputs": [],
   "source": [
    "import numpy as np\n",
    "import matplotlib.pyplot as plt\n",
    "from tqdm import tqdm\n",
    "from scipy.ndimage import uniform_filter1d\n",
    "\n",
    "import constants as const\n",
    "import server as srv\n",
    "import agent as agn"
   ]
  },
  {
   "cell_type": "markdown",
   "metadata": {},
   "source": [
    "In this implementation all the parameters of the game are defined in the *const.py* script. A *Server* has 4 ports, 5 potential vulnerable webservices it may be running, 4 potential vulnerable parameter it may receive at 2 different levels of depth.\n",
    "\n",
    "This implies 45 possible concrete actions for the attacker."
   ]
  },
  {
   "cell_type": "markdown",
   "metadata": {},
   "source": [
    "Setting a random seed"
   ]
  },
  {
   "cell_type": "code",
   "execution_count": 2,
   "metadata": {},
   "outputs": [],
   "source": [
    "np.random.seed(0)"
   ]
  },
  {
   "cell_type": "markdown",
   "metadata": {},
   "source": [
    "### Random server\n",
    "We define a simple function to instantiate random servers."
   ]
  },
  {
   "cell_type": "code",
   "execution_count": 3,
   "metadata": {},
   "outputs": [],
   "source": [
    "def random_server():\n",
    "    vulnport = np.random.randint(0,const.N_PORTS)\n",
    "    vulntype = np.random.choice(const.VULNTYPES)\n",
    "    \n",
    "    if(vulntype==const.VULNTYPE_ACCESSPOINT):\n",
    "        vulnlevel = const.VULNLEVEL_NONE\n",
    "        n = np.argmax(np.random.multinomial(1,[.5,.3,.1,.05,.05]))+1\n",
    "        vulnvalue = np.random.choice(const.ACCESSPOINTS,n,replace=False)\n",
    "    elif(vulntype==const.VULNTYPE_PARAM):\n",
    "        vulnlevel = np.random.choice(const.VULNLEVELS)\n",
    "        vulnvalue = np.random.randint(1,const.N_VULNPARAMS+1)\n",
    "        \n",
    "    return srv.Server(vulnport, vulnlevel, vulntype, vulnvalue)"
   ]
  },
  {
   "cell_type": "markdown",
   "metadata": {},
   "source": [
    "### Defining a function to create trajectory to follow in imitation learning\n",
    "\n",
    "We define a function to provide trajectory to imitate as a function of the current running server."
   ]
  },
  {
   "cell_type": "code",
   "execution_count": 4,
   "metadata": {},
   "outputs": [],
   "source": [
    "def generate_trajectory(server):\n",
    "    trajectory = []\n",
    "    \n",
    "    # Perform a scan\n",
    "    trajectory.append(0)\n",
    "    # Perform a scan\n",
    "    trajectory.append(server.vulnport+1)\n",
    "    # Perform a deep read\n",
    "    trajectory.append(server.vulnport + const.N_PORTS +1)\n",
    "    \n",
    "    # Exploit the access point or the parametrized vulnerability\n",
    "    if(server.vulntype == const.VULNTYPE_ACCESSPOINT):\n",
    "        vulnport = server.vulnport\n",
    "        vulnvalue = server.vulnvalue[0]\n",
    "        #trajectory.append( (const.N_PORTS*2)+1 + vulnport + vulnvalue*const.N_PORTS )\n",
    "        trajectory.append( (const.N_PORTS*2)+1 + (vulnport*const.N_ACCESSPOINTS) + vulnvalue)\n",
    "    elif(server.vulntype == const.VULNTYPE_PARAM):\n",
    "        vulnport = server.vulnport\n",
    "        vulnvalue = server.vulnvalue\n",
    "        trajectory.append( const.N_PORTS*(2+const.N_ACCESSPOINTS)+1 + (vulnport*const.N_VULNPARAMS) + (vulnvalue-1) )\n",
    "    \n",
    "    return trajectory"
   ]
  },
  {
   "cell_type": "markdown",
   "metadata": {},
   "source": [
    "## Simulation 5.1\n",
    "We run an agent learning over $10^5$ episodes and we test it over $100$ further episodes. We repeat this process $100$ times in order to collect stable statistics."
   ]
  },
  {
   "cell_type": "code",
   "execution_count": 5,
   "metadata": {},
   "outputs": [
    {
     "name": "stderr",
     "output_type": "stream",
     "text": [
      "100%|███████████████████████████████████████████| 20/20 [01:04<00:00,  3.23s/it]\n"
     ]
    }
   ],
   "source": [
    "nepisodes_learning = 10000\n",
    "ntrials = 20\n",
    "\n",
    "steps_im0 = np.zeros((ntrials,nepisodes_learning))\n",
    "rewards_im0 = np.zeros((ntrials,nepisodes_learning))\n",
    "\n",
    "for t in tqdm(range(ntrials)):\n",
    "    \n",
    "    agt = agn.Agent(verbose=False)\n",
    "    agt.set_learning_options(exploration=0.9, \n",
    "                         learningrate=0.3, \n",
    "                         discount=0.9)\n",
    "\n",
    "    for e in range(nepisodes_learning):\n",
    "        env = random_server()\n",
    "        agt.reset(env)\n",
    "\n",
    "        agt.run_episode()\n",
    "        steps_im0[t,e] = agt.steps\n",
    "        rewards_im0[t,e] = agt.rewards    "
   ]
  },
  {
   "cell_type": "raw",
   "metadata": {},
   "source": [
    "import joblib\n",
    "joblib.dump(steps_im0, 'res_steps_im0_10e3steps_20iter.pkl')\n",
    "joblib.dump(rewards_im0, 'res_rewards_im0_10e3steps_20iter.pkl')"
   ]
  },
  {
   "cell_type": "markdown",
   "metadata": {},
   "source": [
    "## Simulation 5.2\n",
    "\n",
    "We now run an agent learning over with a variable number of imitation learning steps, and then $100$ episodes of reinforcement learning. We repeat this process $100$ times in order to collect stable statistics."
   ]
  },
  {
   "cell_type": "code",
   "execution_count": 6,
   "metadata": {},
   "outputs": [
    {
     "name": "stderr",
     "output_type": "stream",
     "text": [
      "100%|███████████████████████████████████████████| 20/20 [00:00<00:00, 23.24it/s]\n",
      "100%|███████████████████████████████████████████| 20/20 [00:00<00:00, 21.40it/s]\n",
      "100%|███████████████████████████████████████████| 20/20 [00:01<00:00, 17.18it/s]\n"
     ]
    }
   ],
   "source": [
    "imitations = [100,200,500]\n",
    "nepisodes_learning = 100\n",
    "\n",
    "steps_imN = np.zeros((ntrials,len(imitations),nepisodes_learning))\n",
    "rewards_imN = np.zeros((ntrials,len(imitations),nepisodes_learning))\n",
    "\n",
    "for i in range(len(imitations)):\n",
    "\n",
    "    for t in tqdm(range(ntrials)):    \n",
    "            \n",
    "        agt = agn.Agent(verbose=False)\n",
    "        agt.set_learning_options(exploration=0.9, \n",
    "                             learningrate=0.3, \n",
    "                             discount=0.9)\n",
    "\n",
    "        for l in range(imitations[i]):\n",
    "            env = random_server()\n",
    "            trajectory = generate_trajectory(env)\n",
    "            agt.reset(env)\n",
    "\n",
    "            agt.run_trajectory(trajectory)   \n",
    "            \n",
    "        for e in range(nepisodes_learning):\n",
    "            env = random_server()\n",
    "            agt.reset(env)\n",
    "\n",
    "            agt.run_episode()\n",
    "            \n",
    "            steps_imN[t,i,e] = agt.steps\n",
    "            rewards_imN[t,i,e] = agt.rewards"
   ]
  },
  {
   "cell_type": "raw",
   "metadata": {},
   "source": [
    "import joblib\n",
    "joblib.dump(steps_imN, 'res_steps_imN_10e2steps_20iter.pkl')\n",
    "joblib.dump(rewards_imN, 'res_rewards_imN_10e2steps_20iter.pkl')"
   ]
  },
  {
   "cell_type": "markdown",
   "metadata": {},
   "source": [
    "We finally plot the mean average reward, averaged over 100 episodes, for all the agents that we trained."
   ]
  },
  {
   "cell_type": "code",
   "execution_count": 7,
   "metadata": {
    "scrolled": true
   },
   "outputs": [
    {
     "name": "stdout",
     "output_type": "stream",
     "text": [
      "4.609681415239018\n",
      "4.565067880108684\n",
      "3.688653514495498\n"
     ]
    },
    {
     "data": {
      "image/png": "[encoded data removed]",
      "text/plain": [
       "<Figure size 432x288 with 1 Axes>"
      ]
     },
     "metadata": {
      "needs_background": "light"
     },
     "output_type": "display_data"
    }
   ],
   "source": [
    "nepisodes_learning = 10000\n",
    "\n",
    "x = np.arange(nepisodes_learning)\n",
    "y = np.mean(uniform_filter1d(rewards_im0,size=100,mode='nearest',axis=1),axis=0)\n",
    "ystd = np.std(uniform_filter1d(rewards_im0,size=100,mode='nearest'),axis=0)\n",
    "plt.plot(x,y)\n",
    "plt.fill_between(x,y-ystd,y+ystd,alpha=.5)\n",
    "#plt.ylim(35,70)\n",
    "\n",
    "# avg_rewards_im0 = []\n",
    "# std_rewards_im0 = []\n",
    "# for i in range(int(nepisodes_learning/100)):\n",
    "#     avg_reward = np.mean(rewards_im0[:,i:((i+1)*100)-1])\n",
    "#     std_reward = np.std(rewards_im0[:,i:((i+1)*100)-1])\n",
    "#     avg_rewards_im0.append([avg_reward]*100)\n",
    "#     std_rewards_im0.append([std_reward]*100)\n",
    "# avg_rewards_im0 = [v for sl in avg_rewards_im0 for v in sl]\n",
    "# std_rewards_im0 = [v for sl in std_rewards_im0 for v in sl]\n",
    "# plt.plot(np.arange(nepisodes_learning),avg_rewards_im0, label='Standard RL')\n",
    "# plt.fill_between(x,np.array(avg_rewards_im0)-np.array(std_rewards_im0),np.array(avg_rewards_im0)+np.array(std_rewards_im0),alpha=.5)\n",
    "\n",
    "y = [np.mean(rewards_imN[:,0,:])]*(nepisodes_learning)\n",
    "ystd = np.std(np.mean(rewards_imN[:,0,:],axis=1))\n",
    "plt.plot(x,y, label='D=100', linestyle='dashed')\n",
    "#plt.fill_between(x,y-ystd,y+ystd,alpha=.5)\n",
    "print(ystd)\n",
    "\n",
    "y = [np.mean(rewards_imN[:,1,:])]*(nepisodes_learning)\n",
    "ystd = np.std(np.mean(rewards_imN[:,1,:],axis=1))\n",
    "plt.plot(x,y, label='D=200', linestyle='dashed')\n",
    "#plt.fill_between(x,y-ystd,y+ystd,alpha=.5)\n",
    "print(ystd)\n",
    "\n",
    "y = [np.mean(rewards_imN[:,2,:])]*(nepisodes_learning)\n",
    "ystd = np.std(np.mean(rewards_imN[:,2,:],axis=1))\n",
    "plt.plot(x,y, label='D=500', linestyle='dashed')\n",
    "#plt.fill_between(x,y-ystd,y+ystd,alpha=.5)\n",
    "print(ystd)\n",
    "\n",
    "#plt.plot(np.arange(nepisodes_learning),avg_rewards_im0, label='Standard RL')\n",
    "#plt.plot(np.arange(nepisodes_learning),[np.mean(rewards_imN[:,0,:])]*(nepisodes_learning), label='D=100', linestyle='dashed')\n",
    "#plt.plot(np.arange(nepisodes_learning),[np.mean(rewards_imN[:,1,:])]*(nepisodes_learning), label='D=200', linestyle='dashed')\n",
    "#plt.plot(np.arange(nepisodes_learning),[np.mean(rewards_imN[:,2,:])]*(nepisodes_learning), label='D=500', linestyle='dashed')\n",
    "\n",
    "plt.xlabel('Episodes')\n",
    "plt.ylabel('Reward')\n",
    "plt.legend()\n",
    "plt.grid()\n",
    "\n",
    "plt.savefig('simul5_imitation.png')\n",
    "plt.show()"
   ]
  },
  {
   "cell_type": "code",
   "execution_count": null,
   "metadata": {},
   "outputs": [],
   "source": []
  }
 ],
 "metadata": {
  "kernelspec": {
   "display_name": "Python 3 (ipykernel)",
   "language": "python",
   "name": "python3"
  },
  "language_info": {
   "codemirror_mode": {
    "name": "ipython",
    "version": 3
   },
   "file_extension": ".py",
   "mimetype": "text/x-python",
   "name": "python",
   "nbconvert_exporter": "python",
   "pygments_lexer": "ipython3",
   "version": "3.9.12"
  },
  "toc": {
   "base_numbering": 1,
   "nav_menu": {},
   "number_sections": true,
   "sideBar": true,
   "skip_h1_title": false,
   "title_cell": "Table of Contents",
   "title_sidebar": "Contents",
   "toc_cell": false,
   "toc_position": {},
   "toc_section_display": true,
   "toc_window_display": true
  }
 },
 "nbformat": 4,
 "nbformat_minor": 2
}
